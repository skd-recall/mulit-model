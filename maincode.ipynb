{
 "cells": [
  {
   "cell_type": "code",
   "execution_count": 3,
   "id": "de375476-113f-429b-9754-0af3a003089e",
   "metadata": {},
   "outputs": [],
   "source": [
    "import pandas as pd\n",
    "import numpy as np\n",
    "from sklearn.model_selection import train_test_split\n",
    "from sklearn.preprocessing import StandardScaler\n",
    "from sklearn.metrics import mean_absolute_error, mean_squared_error\n",
    "\n",
    "import torch\n",
    "from torch import nn, optim\n",
    "from torch.utils.data import Dataset, DataLoader\n",
    "from torchvision import transforms, models\n",
    "from PIL import Image"
   ]
  },
  {
   "cell_type": "code",
   "execution_count": 4,
   "id": "bf2ffda5-da48-486b-b1c4-0ee9809eca22",
   "metadata": {},
   "outputs": [],
   "source": [
    "df = pd.read_csv('dataset2.csv')"
   ]
  },
  {
   "cell_type": "code",
   "execution_count": 5,
   "id": "25f2b03a-4177-463e-8e9c-56c4a321a1b1",
   "metadata": {},
   "outputs": [],
   "source": [
    "tabular_cols = ['bed', 'bath', 'sqft', 'n_citi']\n",
    "target_col = 'price'\n",
    "\n",
    "# Train/test split\n",
    "train_df, val_df = train_test_split(df, test_size=0.2, random_state=42)"
   ]
  },
  {
   "cell_type": "code",
   "execution_count": 6,
   "id": "eaf68dff-9003-4bd1-acd1-ec51589a2fc6",
   "metadata": {},
   "outputs": [],
   "source": [
    "# Normalize tabular features\n",
    "scaler = StandardScaler()\n",
    "X_train_tab = scaler.fit_transform(train_df[tabular_cols])\n",
    "X_val_tab = scaler.transform(val_df[tabular_cols])\n",
    "\n",
    "# Image Transform\n",
    "transform = transforms.Compose([\n",
    "    transforms.Resize((224, 224)),\n",
    "    transforms.ToTensor(),\n",
    "    transforms.Normalize(mean=[0.485, 0.456, 0.406],\n",
    "                         std=[0.229, 0.224, 0.225]),\n",
    "])"
   ]
  },
  {
   "cell_type": "code",
   "execution_count": 7,
   "id": "ae6f7a93-f499-4d2d-8d2f-0f01d563671b",
   "metadata": {},
   "outputs": [],
   "source": [
    "class HousingDataset(Dataset):\n",
    "    def __init__(self, df, tabular_data, transform=None):\n",
    "        self.df = df.reset_index(drop=True)\n",
    "        self.tabular_data = tabular_data\n",
    "        self.transform = transform\n",
    "\n",
    "    def __len__(self):\n",
    "        return len(self.df)\n",
    "\n",
    "    def __getitem__(self, idx):\n",
    "        img_id = self.df.loc[idx, 'image_id']\n",
    "        img_path = f\"dataset1/{img_id}.jpg\"\n",
    "        image = Image.open(img_path).convert('RGB')\n",
    "        if self.transform:\n",
    "            image = self.transform(image)\n",
    "\n",
    "        tabular = self.tabular_data[idx]\n",
    "        target = self.df.loc[idx, 'price']\n",
    "\n",
    "        return image, torch.tensor(tabular, dtype=torch.float32), torch.tensor(target, dtype=torch.float32)"
   ]
  },
  {
   "cell_type": "code",
   "execution_count": 8,
   "id": "81803724-3d19-4e50-8131-d9913cd27e5a",
   "metadata": {},
   "outputs": [],
   "source": [
    "train_dataset = HousingDataset(train_df, X_train_tab, transform)\n",
    "val_dataset = HousingDataset(val_df, X_val_tab, transform)\n",
    "\n",
    "train_loader = DataLoader(train_dataset, batch_size=32, shuffle=True)\n",
    "val_loader = DataLoader(val_dataset, batch_size=32, shuffle=False)"
   ]
  },
  {
   "cell_type": "code",
   "execution_count": 9,
   "id": "76c8e594-3c4f-4464-a544-9b123fa8d55b",
   "metadata": {},
   "outputs": [],
   "source": [
    "class MultimodalModel(nn.Module):\n",
    "    def __init__(self, tabular_dim):\n",
    "        super(MultimodalModel, self).__init__()\n",
    "        cnn = models.resnet18(pretrained=True)\n",
    "        self.cnn = nn.Sequential(*list(cnn.children())[:-1])  # Remove FC\n",
    "        self.tabular = nn.Sequential(\n",
    "            nn.Linear(tabular_dim, 128),\n",
    "            nn.ReLU(),\n",
    "            nn.BatchNorm1d(128)\n",
    "        )\n",
    "        self.combined = nn.Sequential(\n",
    "            nn.Linear(512 + 128, 128),\n",
    "            nn.ReLU(),\n",
    "            nn.Linear(128, 1)\n",
    "        )\n",
    "\n",
    "    def forward(self, images, tabular):\n",
    "        img_feats = self.cnn(images)\n",
    "        img_feats = img_feats.view(img_feats.size(0), -1)\n",
    "        tab_feats = self.tabular(tabular)\n",
    "        combined = torch.cat([img_feats, tab_feats], dim=1)\n",
    "        return self.combined(combined).squeeze()"
   ]
  },
  {
   "cell_type": "code",
   "execution_count": null,
   "id": "54183c45-7519-457f-9f62-f4caa5c54e50",
   "metadata": {},
   "outputs": [],
   "source": [
    "device = torch.device('cuda' if torch.cuda.is_available() else 'cpu')\n",
    "model = MultimodalModel(tabular_dim=X_train_tab.shape[1]).to(device)\n",
    "criterion = nn.MSELoss()\n",
    "optimizer = optim.Adam(model.parameters(), lr=1e-4)\n",
    "\n",
    "num_epochs = 10\n",
    "\n",
    "for epoch in range(num_epochs):\n",
    "    model.train()\n",
    "    epoch_loss = 0.0\n",
    "    for images, tabular, targets in train_loader:\n",
    "        images, tabular, targets = images.to(device), tabular.to(device), targets.to(device)\n",
    "\n",
    "        optimizer.zero_grad()\n",
    "        outputs = model(images, tabular)\n",
    "        loss = criterion(outputs, targets)\n",
    "        loss.backward()\n",
    "        optimizer.step()\n",
    "        epoch_loss += loss.item() * images.size(0)\n",
    "\n",
    "    avg_loss = epoch_loss / len(train_loader.dataset)\n",
    "    print(f\"Epoch [{epoch+1}/{num_epochs}] Train Loss: {avg_loss:.4f}\")\n",
    "\n",
    "\n"
   ]
  },
  {
   "cell_type": "code",
   "execution_count": null,
   "id": "89d1f978-02b2-4a0b-898f-14786da99454",
   "metadata": {},
   "outputs": [],
   "source": [
    "model.eval()\n",
    "y_true, y_pred = [], []\n",
    "\n",
    "with torch.no_grad():\n",
    "    for images, tabular, targets in val_loader:\n",
    "        images, tabular = images.to(device), tabular.to(device)\n",
    "        outputs = model(images, tabular)\n",
    "        y_true.extend(targets.numpy())\n",
    "        y_pred.extend(outputs.cpu().numpy())\n",
    "\n",
    "mae = mean_absolute_error(y_true, y_pred)\n",
    "rmse = mean_squared_error(y_true, y_pred, squared=False)\n",
    "print(f\"Validation MAE: {mae:.2f}, RMSE: {rmse:.2f}\")\n"
   ]
  }
 ],
 "metadata": {
  "kernelspec": {
   "display_name": "Python 3 (ipykernel)",
   "language": "python",
   "name": "python3"
  },
  "language_info": {
   "codemirror_mode": {
    "name": "ipython",
    "version": 3
   },
   "file_extension": ".py",
   "mimetype": "text/x-python",
   "name": "python",
   "nbconvert_exporter": "python",
   "pygments_lexer": "ipython3",
   "version": "3.12.7"
  }
 },
 "nbformat": 4,
 "nbformat_minor": 5
}
